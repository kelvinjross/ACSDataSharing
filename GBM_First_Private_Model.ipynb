{
 "cells": [
  {
   "cell_type": "markdown",
   "metadata": {},
   "source": [
    "# ACS Data Sharing\n",
    "# Utility of Private Data\n",
    "\n",
    "In this workbook we consider how utility may vary as features are added to a data set.\n",
    "\n",
    "Some features may disclose private information, and we need to consider the tradeoff between privacy and utility.\n",
    "\n",
    "We run experiments using prediction models (regressors) to look at the predictive performance using various features."
   ]
  },
  {
   "cell_type": "code",
   "execution_count": 1,
   "metadata": {
    "collapsed": true
   },
   "outputs": [],
   "source": [
    "import numpy as np\n",
    "import pandas as pd\n",
    "import matplotlib.pyplot as plt\n",
    "import seaborn as sns\n",
    "import mpl_toolkits\n",
    "%matplotlib inline"
   ]
  },
  {
   "cell_type": "markdown",
   "metadata": {},
   "source": [
    "## Dataset\n",
    "We use the Inmate Admissions dataset."
   ]
  },
  {
   "cell_type": "code",
   "execution_count": 2,
   "metadata": {},
   "outputs": [],
   "source": [
    "data = pd.read_csv(\"Inmate_Admissions.csv\", parse_dates=['ADMITTED_DT','DISCHARGED_DT'])"
   ]
  },
  {
   "cell_type": "code",
   "execution_count": 3,
   "metadata": {},
   "outputs": [
    {
     "data": {
      "text/html": [
       "<div>\n",
       "<style>\n",
       "    .dataframe thead tr:only-child th {\n",
       "        text-align: right;\n",
       "    }\n",
       "\n",
       "    .dataframe thead th {\n",
       "        text-align: left;\n",
       "    }\n",
       "\n",
       "    .dataframe tbody tr th {\n",
       "        vertical-align: top;\n",
       "    }\n",
       "</style>\n",
       "<table border=\"1\" class=\"dataframe\">\n",
       "  <thead>\n",
       "    <tr style=\"text-align: right;\">\n",
       "      <th></th>\n",
       "      <th>INMATEID</th>\n",
       "      <th>ADMITTED_DT</th>\n",
       "      <th>DISCHARGED_DT</th>\n",
       "      <th>RACE</th>\n",
       "      <th>GENDER</th>\n",
       "      <th>INMATE_STATUS_CODE</th>\n",
       "      <th>TOP_CHARGE</th>\n",
       "    </tr>\n",
       "  </thead>\n",
       "  <tbody>\n",
       "    <tr>\n",
       "      <th>0</th>\n",
       "      <td>10001993</td>\n",
       "      <td>2018-01-22 18:32:26</td>\n",
       "      <td>NaT</td>\n",
       "      <td>BLACK</td>\n",
       "      <td>M</td>\n",
       "      <td>DE</td>\n",
       "      <td>220.39</td>\n",
       "    </tr>\n",
       "    <tr>\n",
       "      <th>1</th>\n",
       "      <td>70983</td>\n",
       "      <td>2018-01-02 19:05:00</td>\n",
       "      <td>2018-01-10 20:17:00</td>\n",
       "      <td>UNKNOWN</td>\n",
       "      <td>M</td>\n",
       "      <td>DE</td>\n",
       "      <td>NaN</td>\n",
       "    </tr>\n",
       "    <tr>\n",
       "      <th>2</th>\n",
       "      <td>2744</td>\n",
       "      <td>2018-01-18 17:40:04</td>\n",
       "      <td>NaT</td>\n",
       "      <td>UNKNOWN</td>\n",
       "      <td>M</td>\n",
       "      <td>DE</td>\n",
       "      <td>140.20</td>\n",
       "    </tr>\n",
       "    <tr>\n",
       "      <th>3</th>\n",
       "      <td>20165517</td>\n",
       "      <td>2018-01-09 12:18:49</td>\n",
       "      <td>NaT</td>\n",
       "      <td>UNKNOWN</td>\n",
       "      <td>M</td>\n",
       "      <td>DE</td>\n",
       "      <td>110-120.05</td>\n",
       "    </tr>\n",
       "    <tr>\n",
       "      <th>4</th>\n",
       "      <td>20078557</td>\n",
       "      <td>2018-01-15 11:21:00</td>\n",
       "      <td>NaT</td>\n",
       "      <td>BLACK</td>\n",
       "      <td>M</td>\n",
       "      <td>DE</td>\n",
       "      <td>155.25</td>\n",
       "    </tr>\n",
       "  </tbody>\n",
       "</table>\n",
       "</div>"
      ],
      "text/plain": [
       "   INMATEID         ADMITTED_DT       DISCHARGED_DT     RACE GENDER  \\\n",
       "0  10001993 2018-01-22 18:32:26                 NaT    BLACK     M    \n",
       "1     70983 2018-01-02 19:05:00 2018-01-10 20:17:00  UNKNOWN     M    \n",
       "2      2744 2018-01-18 17:40:04                 NaT  UNKNOWN     M    \n",
       "3  20165517 2018-01-09 12:18:49                 NaT  UNKNOWN     M    \n",
       "4  20078557 2018-01-15 11:21:00                 NaT    BLACK     M    \n",
       "\n",
       "  INMATE_STATUS_CODE  TOP_CHARGE  \n",
       "0                 DE      220.39  \n",
       "1                 DE         NaN  \n",
       "2                 DE      140.20  \n",
       "3                 DE  110-120.05  \n",
       "4                 DE      155.25  "
      ]
     },
     "execution_count": 3,
     "metadata": {},
     "output_type": "execute_result"
    }
   ],
   "source": [
    "data.head()"
   ]
  },
  {
   "cell_type": "code",
   "execution_count": 4,
   "metadata": {},
   "outputs": [
    {
     "data": {
      "text/html": [
       "<div>\n",
       "<style>\n",
       "    .dataframe thead tr:only-child th {\n",
       "        text-align: right;\n",
       "    }\n",
       "\n",
       "    .dataframe thead th {\n",
       "        text-align: left;\n",
       "    }\n",
       "\n",
       "    .dataframe tbody tr th {\n",
       "        vertical-align: top;\n",
       "    }\n",
       "</style>\n",
       "<table border=\"1\" class=\"dataframe\">\n",
       "  <thead>\n",
       "    <tr style=\"text-align: right;\">\n",
       "      <th></th>\n",
       "      <th>INMATEID</th>\n",
       "    </tr>\n",
       "  </thead>\n",
       "  <tbody>\n",
       "    <tr>\n",
       "      <th>count</th>\n",
       "      <td>3.017470e+05</td>\n",
       "    </tr>\n",
       "    <tr>\n",
       "      <th>mean</th>\n",
       "      <td>1.273267e+07</td>\n",
       "    </tr>\n",
       "    <tr>\n",
       "      <th>std</th>\n",
       "      <td>9.537441e+06</td>\n",
       "    </tr>\n",
       "    <tr>\n",
       "      <th>min</th>\n",
       "      <td>1.700000e+01</td>\n",
       "    </tr>\n",
       "    <tr>\n",
       "      <th>25%</th>\n",
       "      <td>1.073410e+05</td>\n",
       "    </tr>\n",
       "    <tr>\n",
       "      <th>50%</th>\n",
       "      <td>2.007140e+07</td>\n",
       "    </tr>\n",
       "    <tr>\n",
       "      <th>75%</th>\n",
       "      <td>2.015021e+07</td>\n",
       "    </tr>\n",
       "    <tr>\n",
       "      <th>max</th>\n",
       "      <td>2.020468e+07</td>\n",
       "    </tr>\n",
       "  </tbody>\n",
       "</table>\n",
       "</div>"
      ],
      "text/plain": [
       "           INMATEID\n",
       "count  3.017470e+05\n",
       "mean   1.273267e+07\n",
       "std    9.537441e+06\n",
       "min    1.700000e+01\n",
       "25%    1.073410e+05\n",
       "50%    2.007140e+07\n",
       "75%    2.015021e+07\n",
       "max    2.020468e+07"
      ]
     },
     "execution_count": 4,
     "metadata": {},
     "output_type": "execute_result"
    }
   ],
   "source": [
    "data.describe()"
   ]
  },
  {
   "cell_type": "code",
   "execution_count": 5,
   "metadata": {},
   "outputs": [
    {
     "data": {
      "text/plain": [
       "INMATEID              301747\n",
       "ADMITTED_DT           301747\n",
       "DISCHARGED_DT         262923\n",
       "RACE                  301747\n",
       "GENDER                300999\n",
       "INMATE_STATUS_CODE    301747\n",
       "TOP_CHARGE             92530\n",
       "dtype: int64"
      ]
     },
     "execution_count": 5,
     "metadata": {},
     "output_type": "execute_result"
    }
   ],
   "source": [
    "data.count()"
   ]
  },
  {
   "cell_type": "code",
   "execution_count": 6,
   "metadata": {
    "collapsed": true
   },
   "outputs": [],
   "source": [
    "# Drop rows where NaT in DISCHARGED_DT\n",
    "df = data.dropna(subset=['DISCHARGED_DT'])   #Drop only if NaN in specific column (as asked in the question)"
   ]
  },
  {
   "cell_type": "code",
   "execution_count": 7,
   "metadata": {},
   "outputs": [
    {
     "data": {
      "text/plain": [
       "INMATEID              262923\n",
       "ADMITTED_DT           262923\n",
       "DISCHARGED_DT         262923\n",
       "RACE                  262923\n",
       "GENDER                262244\n",
       "INMATE_STATUS_CODE    262923\n",
       "TOP_CHARGE             60602\n",
       "dtype: int64"
      ]
     },
     "execution_count": 7,
     "metadata": {},
     "output_type": "execute_result"
    }
   ],
   "source": [
    "df.count()"
   ]
  },
  {
   "cell_type": "code",
   "execution_count": 8,
   "metadata": {},
   "outputs": [
    {
     "data": {
      "text/html": [
       "<div>\n",
       "<style>\n",
       "    .dataframe thead tr:only-child th {\n",
       "        text-align: right;\n",
       "    }\n",
       "\n",
       "    .dataframe thead th {\n",
       "        text-align: left;\n",
       "    }\n",
       "\n",
       "    .dataframe tbody tr th {\n",
       "        vertical-align: top;\n",
       "    }\n",
       "</style>\n",
       "<table border=\"1\" class=\"dataframe\">\n",
       "  <thead>\n",
       "    <tr style=\"text-align: right;\">\n",
       "      <th></th>\n",
       "      <th>INMATEID</th>\n",
       "      <th>ADMITTED_DT</th>\n",
       "      <th>DISCHARGED_DT</th>\n",
       "      <th>RACE</th>\n",
       "      <th>GENDER</th>\n",
       "      <th>INMATE_STATUS_CODE</th>\n",
       "      <th>TOP_CHARGE</th>\n",
       "    </tr>\n",
       "  </thead>\n",
       "  <tbody>\n",
       "    <tr>\n",
       "      <th>1</th>\n",
       "      <td>70983</td>\n",
       "      <td>2018-01-02 19:05:00</td>\n",
       "      <td>2018-01-10 20:17:00</td>\n",
       "      <td>UNKNOWN</td>\n",
       "      <td>M</td>\n",
       "      <td>DE</td>\n",
       "      <td>NaN</td>\n",
       "    </tr>\n",
       "    <tr>\n",
       "      <th>7</th>\n",
       "      <td>20191524</td>\n",
       "      <td>2018-01-25 01:33:00</td>\n",
       "      <td>2018-01-29 15:43:00</td>\n",
       "      <td>BLACK</td>\n",
       "      <td>M</td>\n",
       "      <td>DE</td>\n",
       "      <td>NaN</td>\n",
       "    </tr>\n",
       "    <tr>\n",
       "      <th>8</th>\n",
       "      <td>20190871</td>\n",
       "      <td>2018-01-07 12:20:53</td>\n",
       "      <td>2018-01-08 00:52:03</td>\n",
       "      <td>UNKNOWN</td>\n",
       "      <td>M</td>\n",
       "      <td>DE</td>\n",
       "      <td>NaN</td>\n",
       "    </tr>\n",
       "    <tr>\n",
       "      <th>10</th>\n",
       "      <td>20150795</td>\n",
       "      <td>2018-01-12 19:40:44</td>\n",
       "      <td>2018-01-18 04:12:05</td>\n",
       "      <td>UNKNOWN</td>\n",
       "      <td>M</td>\n",
       "      <td>DE</td>\n",
       "      <td>NaN</td>\n",
       "    </tr>\n",
       "    <tr>\n",
       "      <th>12</th>\n",
       "      <td>43936</td>\n",
       "      <td>2018-01-09 03:33:54</td>\n",
       "      <td>2018-01-09 15:49:05</td>\n",
       "      <td>UNKNOWN</td>\n",
       "      <td>M</td>\n",
       "      <td>DE</td>\n",
       "      <td>NaN</td>\n",
       "    </tr>\n",
       "  </tbody>\n",
       "</table>\n",
       "</div>"
      ],
      "text/plain": [
       "    INMATEID         ADMITTED_DT       DISCHARGED_DT     RACE GENDER  \\\n",
       "1      70983 2018-01-02 19:05:00 2018-01-10 20:17:00  UNKNOWN     M    \n",
       "7   20191524 2018-01-25 01:33:00 2018-01-29 15:43:00    BLACK     M    \n",
       "8   20190871 2018-01-07 12:20:53 2018-01-08 00:52:03  UNKNOWN     M    \n",
       "10  20150795 2018-01-12 19:40:44 2018-01-18 04:12:05  UNKNOWN     M    \n",
       "12     43936 2018-01-09 03:33:54 2018-01-09 15:49:05  UNKNOWN     M    \n",
       "\n",
       "   INMATE_STATUS_CODE TOP_CHARGE  \n",
       "1                  DE        NaN  \n",
       "7                  DE        NaN  \n",
       "8                  DE        NaN  \n",
       "10                 DE        NaN  \n",
       "12                 DE        NaN  "
      ]
     },
     "execution_count": 8,
     "metadata": {},
     "output_type": "execute_result"
    }
   ],
   "source": [
    "df.head()"
   ]
  },
  {
   "cell_type": "code",
   "execution_count": 9,
   "metadata": {},
   "outputs": [
    {
     "data": {
      "text/plain": [
       "<function seaborn.utils.despine>"
      ]
     },
     "execution_count": 9,
     "metadata": {},
     "output_type": "execute_result"
    },
    {
     "data": {
      "image/png": "[encoded data removed]",
      "text/plain": [
       "<matplotlib.figure.Figure at 0x109f4bdd8>"
      ]
     },
     "metadata": {},
     "output_type": "display_data"
    }
   ],
   "source": [
    "df['RACE'].value_counts().plot(kind='bar')\n",
    "plt.title('number of RACE')\n",
    "plt.xlabel('RACE')\n",
    "plt.ylabel('Count')\n",
    "sns.despine"
   ]
  },
  {
   "cell_type": "code",
   "execution_count": 10,
   "metadata": {},
   "outputs": [
    {
     "data": {
      "text/plain": [
       "<function seaborn.utils.despine>"
      ]
     },
     "execution_count": 10,
     "metadata": {},
     "output_type": "execute_result"
    },
    {
     "data": {
      "image/png": "[encoded data removed]",
      "text/plain": [
       "<matplotlib.figure.Figure at 0x10839d048>"
      ]
     },
     "metadata": {},
     "output_type": "display_data"
    }
   ],
   "source": [
    "df['GENDER'].value_counts().plot(kind='bar')\n",
    "plt.title('number of GENDER')\n",
    "plt.xlabel('GENDER')\n",
    "plt.ylabel('Count')\n",
    "sns.despine"
   ]
  },
  {
   "cell_type": "code",
   "execution_count": 11,
   "metadata": {},
   "outputs": [
    {
     "data": {
      "text/plain": [
       "<function seaborn.utils.despine>"
      ]
     },
     "execution_count": 11,
     "metadata": {},
     "output_type": "execute_result"
    },
    {
     "data": {
      "image/png": "[encoded data removed]",
      "text/plain": [
       "<matplotlib.figure.Figure at 0x11b6c45c0>"
      ]
     },
     "metadata": {},
     "output_type": "display_data"
    }
   ],
   "source": [
    "df['INMATE_STATUS_CODE'].value_counts().plot(kind='bar')\n",
    "plt.title('number of INMATE_STATUS_CODE')\n",
    "plt.xlabel('INMATE_STATUS_CODE')\n",
    "plt.ylabel('Count')\n",
    "sns.despine"
   ]
  },
  {
   "cell_type": "code",
   "execution_count": 12,
   "metadata": {},
   "outputs": [
    {
     "data": {
      "text/plain": [
       "<function seaborn.utils.despine>"
      ]
     },
     "execution_count": 12,
     "metadata": {},
     "output_type": "execute_result"
    },
    {
     "data": {
      "image/png": "[encoded data removed]",
      "text/plain": [
       "<matplotlib.figure.Figure at 0x11b6a68d0>"
      ]
     },
     "metadata": {},
     "output_type": "display_data"
    }
   ],
   "source": [
    "df['TOP_CHARGE'].value_counts().plot(kind='bar')\n",
    "plt.title('number of TOP_CHARGE')\n",
    "plt.xlabel('TOP_CHARGE')\n",
    "plt.ylabel('Count')\n",
    "sns.despine"
   ]
  },
  {
   "cell_type": "code",
   "execution_count": 13,
   "metadata": {},
   "outputs": [
    {
     "data": {
      "text/html": [
       "<div>\n",
       "<style>\n",
       "    .dataframe thead tr:only-child th {\n",
       "        text-align: right;\n",
       "    }\n",
       "\n",
       "    .dataframe thead th {\n",
       "        text-align: left;\n",
       "    }\n",
       "\n",
       "    .dataframe tbody tr th {\n",
       "        vertical-align: top;\n",
       "    }\n",
       "</style>\n",
       "<table border=\"1\" class=\"dataframe\">\n",
       "  <thead>\n",
       "    <tr style=\"text-align: right;\">\n",
       "      <th></th>\n",
       "      <th>INMATEID</th>\n",
       "      <th>ADMITTED_DT</th>\n",
       "      <th>DISCHARGED_DT</th>\n",
       "      <th>RACE</th>\n",
       "      <th>GENDER</th>\n",
       "      <th>INMATE_STATUS_CODE</th>\n",
       "      <th>TOP_CHARGE</th>\n",
       "    </tr>\n",
       "  </thead>\n",
       "  <tbody>\n",
       "    <tr>\n",
       "      <th>1</th>\n",
       "      <td>70983</td>\n",
       "      <td>2018-01-02 19:05:00</td>\n",
       "      <td>2018-01-10 20:17:00</td>\n",
       "      <td>UNKNOWN</td>\n",
       "      <td>M</td>\n",
       "      <td>DE</td>\n",
       "      <td>NaN</td>\n",
       "    </tr>\n",
       "    <tr>\n",
       "      <th>7</th>\n",
       "      <td>20191524</td>\n",
       "      <td>2018-01-25 01:33:00</td>\n",
       "      <td>2018-01-29 15:43:00</td>\n",
       "      <td>BLACK</td>\n",
       "      <td>M</td>\n",
       "      <td>DE</td>\n",
       "      <td>NaN</td>\n",
       "    </tr>\n",
       "    <tr>\n",
       "      <th>8</th>\n",
       "      <td>20190871</td>\n",
       "      <td>2018-01-07 12:20:53</td>\n",
       "      <td>2018-01-08 00:52:03</td>\n",
       "      <td>UNKNOWN</td>\n",
       "      <td>M</td>\n",
       "      <td>DE</td>\n",
       "      <td>NaN</td>\n",
       "    </tr>\n",
       "    <tr>\n",
       "      <th>10</th>\n",
       "      <td>20150795</td>\n",
       "      <td>2018-01-12 19:40:44</td>\n",
       "      <td>2018-01-18 04:12:05</td>\n",
       "      <td>UNKNOWN</td>\n",
       "      <td>M</td>\n",
       "      <td>DE</td>\n",
       "      <td>NaN</td>\n",
       "    </tr>\n",
       "    <tr>\n",
       "      <th>12</th>\n",
       "      <td>43936</td>\n",
       "      <td>2018-01-09 03:33:54</td>\n",
       "      <td>2018-01-09 15:49:05</td>\n",
       "      <td>UNKNOWN</td>\n",
       "      <td>M</td>\n",
       "      <td>DE</td>\n",
       "      <td>NaN</td>\n",
       "    </tr>\n",
       "    <tr>\n",
       "      <th>14</th>\n",
       "      <td>64122</td>\n",
       "      <td>2018-01-05 19:28:45</td>\n",
       "      <td>2018-01-26 09:29:01</td>\n",
       "      <td>BLACK</td>\n",
       "      <td>M</td>\n",
       "      <td>CSP</td>\n",
       "      <td>120.00</td>\n",
       "    </tr>\n",
       "    <tr>\n",
       "      <th>15</th>\n",
       "      <td>165663</td>\n",
       "      <td>2018-01-12 11:50:33</td>\n",
       "      <td>2018-01-12 14:20:05</td>\n",
       "      <td>BLACK</td>\n",
       "      <td>M</td>\n",
       "      <td>DE</td>\n",
       "      <td>NaN</td>\n",
       "    </tr>\n",
       "    <tr>\n",
       "      <th>17</th>\n",
       "      <td>23108</td>\n",
       "      <td>2018-01-06 14:12:29</td>\n",
       "      <td>2018-01-09 22:45:00</td>\n",
       "      <td>BLACK</td>\n",
       "      <td>M</td>\n",
       "      <td>DE</td>\n",
       "      <td>NaN</td>\n",
       "    </tr>\n",
       "    <tr>\n",
       "      <th>18</th>\n",
       "      <td>20190837</td>\n",
       "      <td>2018-01-05 20:08:28</td>\n",
       "      <td>2018-01-06 00:05:03</td>\n",
       "      <td>UNKNOWN</td>\n",
       "      <td>M</td>\n",
       "      <td>DE</td>\n",
       "      <td>NaN</td>\n",
       "    </tr>\n",
       "    <tr>\n",
       "      <th>19</th>\n",
       "      <td>20147879</td>\n",
       "      <td>2018-01-26 11:32:16</td>\n",
       "      <td>2018-01-28 17:13:02</td>\n",
       "      <td>BLACK</td>\n",
       "      <td>M</td>\n",
       "      <td>CS</td>\n",
       "      <td>VTL 1192.2</td>\n",
       "    </tr>\n",
       "  </tbody>\n",
       "</table>\n",
       "</div>"
      ],
      "text/plain": [
       "    INMATEID         ADMITTED_DT       DISCHARGED_DT     RACE GENDER  \\\n",
       "1      70983 2018-01-02 19:05:00 2018-01-10 20:17:00  UNKNOWN     M    \n",
       "7   20191524 2018-01-25 01:33:00 2018-01-29 15:43:00    BLACK     M    \n",
       "8   20190871 2018-01-07 12:20:53 2018-01-08 00:52:03  UNKNOWN     M    \n",
       "10  20150795 2018-01-12 19:40:44 2018-01-18 04:12:05  UNKNOWN     M    \n",
       "12     43936 2018-01-09 03:33:54 2018-01-09 15:49:05  UNKNOWN     M    \n",
       "14     64122 2018-01-05 19:28:45 2018-01-26 09:29:01    BLACK     M    \n",
       "15    165663 2018-01-12 11:50:33 2018-01-12 14:20:05    BLACK     M    \n",
       "17     23108 2018-01-06 14:12:29 2018-01-09 22:45:00    BLACK     M    \n",
       "18  20190837 2018-01-05 20:08:28 2018-01-06 00:05:03  UNKNOWN     M    \n",
       "19  20147879 2018-01-26 11:32:16 2018-01-28 17:13:02    BLACK     M    \n",
       "\n",
       "   INMATE_STATUS_CODE  TOP_CHARGE  \n",
       "1                  DE         NaN  \n",
       "7                  DE         NaN  \n",
       "8                  DE         NaN  \n",
       "10                 DE         NaN  \n",
       "12                 DE         NaN  \n",
       "14                CSP      120.00  \n",
       "15                 DE         NaN  \n",
       "17                 DE         NaN  \n",
       "18                 DE         NaN  \n",
       "19                 CS  VTL 1192.2  "
      ]
     },
     "execution_count": 13,
     "metadata": {},
     "output_type": "execute_result"
    }
   ],
   "source": [
    "df[:10]"
   ]
  },
  {
   "cell_type": "markdown",
   "metadata": {},
   "source": [
    "## Derived Features\n",
    "Derived features can aid prediction.\n",
    "\n",
    "For instance, from the admission data, we can look at:\n",
    "- hour of admission\n",
    "- day of week of admission"
   ]
  },
  {
   "cell_type": "code",
   "execution_count": 14,
   "metadata": {},
   "outputs": [
    {
     "name": "stderr",
     "output_type": "stream",
     "text": [
      "/Library/Frameworks/Python.framework/Versions/3.5/lib/python3.5/site-packages/ipykernel_launcher.py:1: SettingWithCopyWarning: \n",
      "A value is trying to be set on a copy of a slice from a DataFrame.\n",
      "Try using .loc[row_indexer,col_indexer] = value instead\n",
      "\n",
      "See the caveats in the documentation: http://pandas.pydata.org/pandas-docs/stable/indexing.html#indexing-view-versus-copy\n",
      "  \"\"\"Entry point for launching an IPython kernel.\n"
     ]
    }
   ],
   "source": [
    "df['duration'] = df['DISCHARGED_DT'] - df['ADMITTED_DT']"
   ]
  },
  {
   "cell_type": "code",
   "execution_count": 15,
   "metadata": {},
   "outputs": [
    {
     "name": "stderr",
     "output_type": "stream",
     "text": [
      "/Library/Frameworks/Python.framework/Versions/3.5/lib/python3.5/site-packages/ipykernel_launcher.py:1: SettingWithCopyWarning: \n",
      "A value is trying to be set on a copy of a slice from a DataFrame.\n",
      "Try using .loc[row_indexer,col_indexer] = value instead\n",
      "\n",
      "See the caveats in the documentation: http://pandas.pydata.org/pandas-docs/stable/indexing.html#indexing-view-versus-copy\n",
      "  \"\"\"Entry point for launching an IPython kernel.\n",
      "/Library/Frameworks/Python.framework/Versions/3.5/lib/python3.5/site-packages/ipykernel_launcher.py:3: SettingWithCopyWarning: \n",
      "A value is trying to be set on a copy of a slice from a DataFrame.\n",
      "Try using .loc[row_indexer,col_indexer] = value instead\n",
      "\n",
      "See the caveats in the documentation: http://pandas.pydata.org/pandas-docs/stable/indexing.html#indexing-view-versus-copy\n",
      "  This is separate from the ipykernel package so we can avoid doing imports until\n",
      "/Library/Frameworks/Python.framework/Versions/3.5/lib/python3.5/site-packages/ipykernel_launcher.py:4: SettingWithCopyWarning: \n",
      "A value is trying to be set on a copy of a slice from a DataFrame.\n",
      "Try using .loc[row_indexer,col_indexer] = value instead\n",
      "\n",
      "See the caveats in the documentation: http://pandas.pydata.org/pandas-docs/stable/indexing.html#indexing-view-versus-copy\n",
      "  after removing the cwd from sys.path.\n",
      "/Library/Frameworks/Python.framework/Versions/3.5/lib/python3.5/site-packages/ipykernel_launcher.py:5: SettingWithCopyWarning: \n",
      "A value is trying to be set on a copy of a slice from a DataFrame.\n",
      "Try using .loc[row_indexer,col_indexer] = value instead\n",
      "\n",
      "See the caveats in the documentation: http://pandas.pydata.org/pandas-docs/stable/indexing.html#indexing-view-versus-copy\n",
      "  \"\"\"\n",
      "/Library/Frameworks/Python.framework/Versions/3.5/lib/python3.5/site-packages/ipykernel_launcher.py:6: SettingWithCopyWarning: \n",
      "A value is trying to be set on a copy of a slice from a DataFrame.\n",
      "Try using .loc[row_indexer,col_indexer] = value instead\n",
      "\n",
      "See the caveats in the documentation: http://pandas.pydata.org/pandas-docs/stable/indexing.html#indexing-view-versus-copy\n",
      "  \n"
     ]
    }
   ],
   "source": [
    "df['duration_days'] = df['duration'].apply(lambda x: x.days)\n",
    "\n",
    "df['admission_year'] = df['ADMITTED_DT'].apply(lambda x: x.year)\n",
    "df['admission_month'] = df['ADMITTED_DT'].apply(lambda x: x.month)\n",
    "df['admission_day'] = df['ADMITTED_DT'].apply(lambda x: x.day)\n",
    "df['admission_hr'] = df['ADMITTED_DT'].apply(lambda x: x.hour)"
   ]
  },
  {
   "cell_type": "code",
   "execution_count": 16,
   "metadata": {},
   "outputs": [
    {
     "name": "stderr",
     "output_type": "stream",
     "text": [
      "/Library/Frameworks/Python.framework/Versions/3.5/lib/python3.5/site-packages/ipykernel_launcher.py:1: SettingWithCopyWarning: \n",
      "A value is trying to be set on a copy of a slice from a DataFrame.\n",
      "Try using .loc[row_indexer,col_indexer] = value instead\n",
      "\n",
      "See the caveats in the documentation: http://pandas.pydata.org/pandas-docs/stable/indexing.html#indexing-view-versus-copy\n",
      "  \"\"\"Entry point for launching an IPython kernel.\n"
     ]
    }
   ],
   "source": [
    "df['admission_dayofweek'] = df['ADMITTED_DT'].apply(lambda x: x.dayofweek)"
   ]
  },
  {
   "cell_type": "code",
   "execution_count": 17,
   "metadata": {
    "collapsed": true
   },
   "outputs": [],
   "source": [
    "#plt.scatter(df['at_int'],df['duration'])\n",
    "#plt.title(\"Duration?\")"
   ]
  },
  {
   "cell_type": "code",
   "execution_count": 18,
   "metadata": {},
   "outputs": [
    {
     "name": "stderr",
     "output_type": "stream",
     "text": [
      "/Library/Frameworks/Python.framework/Versions/3.5/lib/python3.5/site-packages/ipykernel_launcher.py:1: SettingWithCopyWarning: \n",
      "A value is trying to be set on a copy of a slice from a DataFrame.\n",
      "Try using .loc[row_indexer,col_indexer] = value instead\n",
      "\n",
      "See the caveats in the documentation: http://pandas.pydata.org/pandas-docs/stable/indexing.html#indexing-view-versus-copy\n",
      "  \"\"\"Entry point for launching an IPython kernel.\n"
     ]
    }
   ],
   "source": [
    "df['at_int'] = pd.to_timedelta(df.ADMITTED_DT).dt.total_seconds()"
   ]
  },
  {
   "cell_type": "code",
   "execution_count": 19,
   "metadata": {},
   "outputs": [
    {
     "data": {
      "text/html": [
       "<div>\n",
       "<style>\n",
       "    .dataframe thead tr:only-child th {\n",
       "        text-align: right;\n",
       "    }\n",
       "\n",
       "    .dataframe thead th {\n",
       "        text-align: left;\n",
       "    }\n",
       "\n",
       "    .dataframe tbody tr th {\n",
       "        vertical-align: top;\n",
       "    }\n",
       "</style>\n",
       "<table border=\"1\" class=\"dataframe\">\n",
       "  <thead>\n",
       "    <tr style=\"text-align: right;\">\n",
       "      <th></th>\n",
       "      <th>INMATEID</th>\n",
       "      <th>ADMITTED_DT</th>\n",
       "      <th>DISCHARGED_DT</th>\n",
       "      <th>RACE</th>\n",
       "      <th>GENDER</th>\n",
       "      <th>INMATE_STATUS_CODE</th>\n",
       "      <th>TOP_CHARGE</th>\n",
       "      <th>duration</th>\n",
       "      <th>duration_days</th>\n",
       "      <th>admission_year</th>\n",
       "      <th>admission_month</th>\n",
       "      <th>admission_day</th>\n",
       "      <th>admission_hr</th>\n",
       "      <th>admission_dayofweek</th>\n",
       "      <th>at_int</th>\n",
       "    </tr>\n",
       "  </thead>\n",
       "  <tbody>\n",
       "    <tr>\n",
       "      <th>1</th>\n",
       "      <td>70983</td>\n",
       "      <td>2018-01-02 19:05:00</td>\n",
       "      <td>2018-01-10 20:17:00</td>\n",
       "      <td>UNKNOWN</td>\n",
       "      <td>M</td>\n",
       "      <td>DE</td>\n",
       "      <td>NaN</td>\n",
       "      <td>8 days 01:12:00</td>\n",
       "      <td>8</td>\n",
       "      <td>2018</td>\n",
       "      <td>1</td>\n",
       "      <td>2</td>\n",
       "      <td>19</td>\n",
       "      <td>1</td>\n",
       "      <td>1.514920e+09</td>\n",
       "    </tr>\n",
       "    <tr>\n",
       "      <th>7</th>\n",
       "      <td>20191524</td>\n",
       "      <td>2018-01-25 01:33:00</td>\n",
       "      <td>2018-01-29 15:43:00</td>\n",
       "      <td>BLACK</td>\n",
       "      <td>M</td>\n",
       "      <td>DE</td>\n",
       "      <td>NaN</td>\n",
       "      <td>4 days 14:10:00</td>\n",
       "      <td>4</td>\n",
       "      <td>2018</td>\n",
       "      <td>1</td>\n",
       "      <td>25</td>\n",
       "      <td>1</td>\n",
       "      <td>3</td>\n",
       "      <td>1.516844e+09</td>\n",
       "    </tr>\n",
       "    <tr>\n",
       "      <th>8</th>\n",
       "      <td>20190871</td>\n",
       "      <td>2018-01-07 12:20:53</td>\n",
       "      <td>2018-01-08 00:52:03</td>\n",
       "      <td>UNKNOWN</td>\n",
       "      <td>M</td>\n",
       "      <td>DE</td>\n",
       "      <td>NaN</td>\n",
       "      <td>0 days 12:31:10</td>\n",
       "      <td>0</td>\n",
       "      <td>2018</td>\n",
       "      <td>1</td>\n",
       "      <td>7</td>\n",
       "      <td>12</td>\n",
       "      <td>6</td>\n",
       "      <td>1.515328e+09</td>\n",
       "    </tr>\n",
       "    <tr>\n",
       "      <th>10</th>\n",
       "      <td>20150795</td>\n",
       "      <td>2018-01-12 19:40:44</td>\n",
       "      <td>2018-01-18 04:12:05</td>\n",
       "      <td>UNKNOWN</td>\n",
       "      <td>M</td>\n",
       "      <td>DE</td>\n",
       "      <td>NaN</td>\n",
       "      <td>5 days 08:31:21</td>\n",
       "      <td>5</td>\n",
       "      <td>2018</td>\n",
       "      <td>1</td>\n",
       "      <td>12</td>\n",
       "      <td>19</td>\n",
       "      <td>4</td>\n",
       "      <td>1.515786e+09</td>\n",
       "    </tr>\n",
       "    <tr>\n",
       "      <th>12</th>\n",
       "      <td>43936</td>\n",
       "      <td>2018-01-09 03:33:54</td>\n",
       "      <td>2018-01-09 15:49:05</td>\n",
       "      <td>UNKNOWN</td>\n",
       "      <td>M</td>\n",
       "      <td>DE</td>\n",
       "      <td>NaN</td>\n",
       "      <td>0 days 12:15:11</td>\n",
       "      <td>0</td>\n",
       "      <td>2018</td>\n",
       "      <td>1</td>\n",
       "      <td>9</td>\n",
       "      <td>3</td>\n",
       "      <td>1</td>\n",
       "      <td>1.515469e+09</td>\n",
       "    </tr>\n",
       "  </tbody>\n",
       "</table>\n",
       "</div>"
      ],
      "text/plain": [
       "    INMATEID         ADMITTED_DT       DISCHARGED_DT     RACE GENDER  \\\n",
       "1      70983 2018-01-02 19:05:00 2018-01-10 20:17:00  UNKNOWN     M    \n",
       "7   20191524 2018-01-25 01:33:00 2018-01-29 15:43:00    BLACK     M    \n",
       "8   20190871 2018-01-07 12:20:53 2018-01-08 00:52:03  UNKNOWN     M    \n",
       "10  20150795 2018-01-12 19:40:44 2018-01-18 04:12:05  UNKNOWN     M    \n",
       "12     43936 2018-01-09 03:33:54 2018-01-09 15:49:05  UNKNOWN     M    \n",
       "\n",
       "   INMATE_STATUS_CODE TOP_CHARGE        duration  duration_days  \\\n",
       "1                  DE        NaN 8 days 01:12:00              8   \n",
       "7                  DE        NaN 4 days 14:10:00              4   \n",
       "8                  DE        NaN 0 days 12:31:10              0   \n",
       "10                 DE        NaN 5 days 08:31:21              5   \n",
       "12                 DE        NaN 0 days 12:15:11              0   \n",
       "\n",
       "    admission_year  admission_month  admission_day  admission_hr  \\\n",
       "1             2018                1              2            19   \n",
       "7             2018                1             25             1   \n",
       "8             2018                1              7            12   \n",
       "10            2018                1             12            19   \n",
       "12            2018                1              9             3   \n",
       "\n",
       "    admission_dayofweek        at_int  \n",
       "1                     1  1.514920e+09  \n",
       "7                     3  1.516844e+09  \n",
       "8                     6  1.515328e+09  \n",
       "10                    4  1.515786e+09  \n",
       "12                    1  1.515469e+09  "
      ]
     },
     "execution_count": 19,
     "metadata": {},
     "output_type": "execute_result"
    }
   ],
   "source": [
    "df.head()"
   ]
  },
  {
   "cell_type": "markdown",
   "metadata": {},
   "source": [
    "# Models\n",
    "We begin by building sample models from our data.  We will build:\n",
    "- Linear Regression\n",
    "- Gradient Boosting"
   ]
  },
  {
   "cell_type": "code",
   "execution_count": 20,
   "metadata": {
    "collapsed": true
   },
   "outputs": [],
   "source": [
    "from sklearn.preprocessing import LabelEncoder\n",
    "from sklearn.pipeline import Pipeline"
   ]
  },
  {
   "cell_type": "code",
   "execution_count": 21,
   "metadata": {
    "collapsed": true
   },
   "outputs": [],
   "source": [
    "labels = df['duration_days']\n",
    "#inputs = df.drop(['INMATEID', 'ADMITTED_DT', 'DISCHARGED_DT', 'duration', 'duration_days', 'at_int', 'TOP_CHARGE'],axis=1)\n",
    "inputs = df.drop(['INMATEID', 'ADMITTED_DT', 'GENDER', 'DISCHARGED_DT', 'duration', 'duration_days', 'at_int', 'TOP_CHARGE'],axis=1)"
   ]
  },
  {
   "cell_type": "code",
   "execution_count": 22,
   "metadata": {
    "collapsed": true
   },
   "outputs": [],
   "source": [
    "#inputs.GENDER.unique()"
   ]
  },
  {
   "cell_type": "code",
   "execution_count": 23,
   "metadata": {},
   "outputs": [
    {
     "data": {
      "text/plain": [
       "array(['UNKNOWN', 'BLACK', 'ASIAN'], dtype=object)"
      ]
     },
     "execution_count": 23,
     "metadata": {},
     "output_type": "execute_result"
    }
   ],
   "source": [
    "inputs.RACE.unique()"
   ]
  },
  {
   "cell_type": "code",
   "execution_count": 25,
   "metadata": {},
   "outputs": [],
   "source": [
    "#inputs['GENDER'] = inputs['GENDER'].fillna('NONE')"
   ]
  },
  {
   "cell_type": "code",
   "execution_count": 26,
   "metadata": {
    "collapsed": true
   },
   "outputs": [],
   "source": [
    "le = LabelEncoder()\n",
    "#inputs['GENDER'] = le.fit_transform(inputs['GENDER'])\n",
    "inputs['RACE'] = le.fit_transform(inputs['RACE'])\n",
    "inputs['INMATE_STATUS_CODE'] = le.fit_transform(inputs['INMATE_STATUS_CODE'])"
   ]
  },
  {
   "cell_type": "code",
   "execution_count": 27,
   "metadata": {},
   "outputs": [
    {
     "data": {
      "text/html": [
       "<div>\n",
       "<style>\n",
       "    .dataframe thead tr:only-child th {\n",
       "        text-align: right;\n",
       "    }\n",
       "\n",
       "    .dataframe thead th {\n",
       "        text-align: left;\n",
       "    }\n",
       "\n",
       "    .dataframe tbody tr th {\n",
       "        vertical-align: top;\n",
       "    }\n",
       "</style>\n",
       "<table border=\"1\" class=\"dataframe\">\n",
       "  <thead>\n",
       "    <tr style=\"text-align: right;\">\n",
       "      <th></th>\n",
       "      <th>RACE</th>\n",
       "      <th>INMATE_STATUS_CODE</th>\n",
       "      <th>admission_year</th>\n",
       "      <th>admission_month</th>\n",
       "      <th>admission_day</th>\n",
       "      <th>admission_hr</th>\n",
       "      <th>admission_dayofweek</th>\n",
       "    </tr>\n",
       "  </thead>\n",
       "  <tbody>\n",
       "    <tr>\n",
       "      <th>1</th>\n",
       "      <td>2</td>\n",
       "      <td>2</td>\n",
       "      <td>2018</td>\n",
       "      <td>1</td>\n",
       "      <td>2</td>\n",
       "      <td>19</td>\n",
       "      <td>1</td>\n",
       "    </tr>\n",
       "    <tr>\n",
       "      <th>7</th>\n",
       "      <td>1</td>\n",
       "      <td>2</td>\n",
       "      <td>2018</td>\n",
       "      <td>1</td>\n",
       "      <td>25</td>\n",
       "      <td>1</td>\n",
       "      <td>3</td>\n",
       "    </tr>\n",
       "    <tr>\n",
       "      <th>8</th>\n",
       "      <td>2</td>\n",
       "      <td>2</td>\n",
       "      <td>2018</td>\n",
       "      <td>1</td>\n",
       "      <td>7</td>\n",
       "      <td>12</td>\n",
       "      <td>6</td>\n",
       "    </tr>\n",
       "    <tr>\n",
       "      <th>10</th>\n",
       "      <td>2</td>\n",
       "      <td>2</td>\n",
       "      <td>2018</td>\n",
       "      <td>1</td>\n",
       "      <td>12</td>\n",
       "      <td>19</td>\n",
       "      <td>4</td>\n",
       "    </tr>\n",
       "    <tr>\n",
       "      <th>12</th>\n",
       "      <td>2</td>\n",
       "      <td>2</td>\n",
       "      <td>2018</td>\n",
       "      <td>1</td>\n",
       "      <td>9</td>\n",
       "      <td>3</td>\n",
       "      <td>1</td>\n",
       "    </tr>\n",
       "  </tbody>\n",
       "</table>\n",
       "</div>"
      ],
      "text/plain": [
       "    RACE  INMATE_STATUS_CODE  admission_year  admission_month  admission_day  \\\n",
       "1      2                   2            2018                1              2   \n",
       "7      1                   2            2018                1             25   \n",
       "8      2                   2            2018                1              7   \n",
       "10     2                   2            2018                1             12   \n",
       "12     2                   2            2018                1              9   \n",
       "\n",
       "    admission_hr  admission_dayofweek  \n",
       "1             19                    1  \n",
       "7              1                    3  \n",
       "8             12                    6  \n",
       "10            19                    4  \n",
       "12             3                    1  "
      ]
     },
     "execution_count": 27,
     "metadata": {},
     "output_type": "execute_result"
    }
   ],
   "source": [
    "inputs.head()"
   ]
  },
  {
   "cell_type": "code",
   "execution_count": 28,
   "metadata": {},
   "outputs": [
    {
     "data": {
      "text/plain": [
       "1     8\n",
       "7     4\n",
       "8     0\n",
       "10    5\n",
       "12    0\n",
       "Name: duration_days, dtype: int64"
      ]
     },
     "execution_count": 28,
     "metadata": {},
     "output_type": "execute_result"
    }
   ],
   "source": [
    "labels.head()"
   ]
  },
  {
   "cell_type": "code",
   "execution_count": 29,
   "metadata": {
    "collapsed": true
   },
   "outputs": [],
   "source": [
    "from sklearn.linear_model import LinearRegression"
   ]
  },
  {
   "cell_type": "code",
   "execution_count": 30,
   "metadata": {
    "collapsed": true
   },
   "outputs": [],
   "source": [
    "reg = LinearRegression()"
   ]
  },
  {
   "cell_type": "code",
   "execution_count": 31,
   "metadata": {},
   "outputs": [
    {
     "name": "stderr",
     "output_type": "stream",
     "text": [
      "/Library/Frameworks/Python.framework/Versions/3.5/lib/python3.5/site-packages/sklearn/cross_validation.py:41: DeprecationWarning: This module was deprecated in version 0.18 in favor of the model_selection module into which all the refactored classes and functions are moved. Also note that the interface of the new CV iterators are different from that of this module. This module will be removed in 0.20.\n",
      "  \"This module will be removed in 0.20.\", DeprecationWarning)\n"
     ]
    }
   ],
   "source": [
    "from sklearn.cross_validation import train_test_split"
   ]
  },
  {
   "cell_type": "code",
   "execution_count": 32,
   "metadata": {
    "collapsed": true
   },
   "outputs": [],
   "source": [
    "x_train , x_test , y_train , y_test = train_test_split(inputs , labels , test_size = 0.10,random_state =2)"
   ]
  },
  {
   "cell_type": "code",
   "execution_count": 33,
   "metadata": {},
   "outputs": [
    {
     "data": {
      "text/html": [
       "<div>\n",
       "<style>\n",
       "    .dataframe thead tr:only-child th {\n",
       "        text-align: right;\n",
       "    }\n",
       "\n",
       "    .dataframe thead th {\n",
       "        text-align: left;\n",
       "    }\n",
       "\n",
       "    .dataframe tbody tr th {\n",
       "        vertical-align: top;\n",
       "    }\n",
       "</style>\n",
       "<table border=\"1\" class=\"dataframe\">\n",
       "  <thead>\n",
       "    <tr style=\"text-align: right;\">\n",
       "      <th></th>\n",
       "      <th>RACE</th>\n",
       "      <th>INMATE_STATUS_CODE</th>\n",
       "      <th>admission_year</th>\n",
       "      <th>admission_month</th>\n",
       "      <th>admission_day</th>\n",
       "      <th>admission_hr</th>\n",
       "      <th>admission_dayofweek</th>\n",
       "    </tr>\n",
       "  </thead>\n",
       "  <tbody>\n",
       "    <tr>\n",
       "      <th>216319</th>\n",
       "      <td>2</td>\n",
       "      <td>2</td>\n",
       "      <td>2014</td>\n",
       "      <td>10</td>\n",
       "      <td>17</td>\n",
       "      <td>16</td>\n",
       "      <td>4</td>\n",
       "    </tr>\n",
       "    <tr>\n",
       "      <th>268539</th>\n",
       "      <td>1</td>\n",
       "      <td>7</td>\n",
       "      <td>2017</td>\n",
       "      <td>2</td>\n",
       "      <td>24</td>\n",
       "      <td>1</td>\n",
       "      <td>4</td>\n",
       "    </tr>\n",
       "    <tr>\n",
       "      <th>65963</th>\n",
       "      <td>1</td>\n",
       "      <td>2</td>\n",
       "      <td>2014</td>\n",
       "      <td>2</td>\n",
       "      <td>3</td>\n",
       "      <td>17</td>\n",
       "      <td>0</td>\n",
       "    </tr>\n",
       "    <tr>\n",
       "      <th>148213</th>\n",
       "      <td>1</td>\n",
       "      <td>2</td>\n",
       "      <td>2014</td>\n",
       "      <td>2</td>\n",
       "      <td>21</td>\n",
       "      <td>23</td>\n",
       "      <td>4</td>\n",
       "    </tr>\n",
       "    <tr>\n",
       "      <th>64905</th>\n",
       "      <td>2</td>\n",
       "      <td>7</td>\n",
       "      <td>2014</td>\n",
       "      <td>5</td>\n",
       "      <td>19</td>\n",
       "      <td>14</td>\n",
       "      <td>0</td>\n",
       "    </tr>\n",
       "  </tbody>\n",
       "</table>\n",
       "</div>"
      ],
      "text/plain": [
       "        RACE  INMATE_STATUS_CODE  admission_year  admission_month  \\\n",
       "216319     2                   2            2014               10   \n",
       "268539     1                   7            2017                2   \n",
       "65963      1                   2            2014                2   \n",
       "148213     1                   2            2014                2   \n",
       "64905      2                   7            2014                5   \n",
       "\n",
       "        admission_day  admission_hr  admission_dayofweek  \n",
       "216319             17            16                    4  \n",
       "268539             24             1                    4  \n",
       "65963               3            17                    0  \n",
       "148213             21            23                    4  \n",
       "64905              19            14                    0  "
      ]
     },
     "execution_count": 33,
     "metadata": {},
     "output_type": "execute_result"
    }
   ],
   "source": [
    "x_train.head()"
   ]
  },
  {
   "cell_type": "code",
   "execution_count": 34,
   "metadata": {},
   "outputs": [
    {
     "name": "stderr",
     "output_type": "stream",
     "text": [
      "/Library/Frameworks/Python.framework/Versions/3.5/lib/python3.5/site-packages/scipy/linalg/basic.py:1018: RuntimeWarning: internal gelsd driver lwork query error, required iwork dimension not returned. This is likely the result of LAPACK bug 0038, fixed in LAPACK 3.2.2 (released July 21, 2010). Falling back to 'gelss' driver.\n",
      "  warnings.warn(mesg, RuntimeWarning)\n"
     ]
    },
    {
     "data": {
      "text/plain": [
       "LinearRegression(copy_X=True, fit_intercept=True, n_jobs=1, normalize=False)"
      ]
     },
     "execution_count": 34,
     "metadata": {},
     "output_type": "execute_result"
    }
   ],
   "source": [
    "reg.fit(x_train,y_train)"
   ]
  },
  {
   "cell_type": "code",
   "execution_count": 35,
   "metadata": {},
   "outputs": [
    {
     "data": {
      "text/plain": [
       "0.11082541327255024"
      ]
     },
     "execution_count": 35,
     "metadata": {},
     "output_type": "execute_result"
    }
   ],
   "source": [
    "reg.score(x_test,y_test)"
   ]
  },
  {
   "cell_type": "code",
   "execution_count": 36,
   "metadata": {
    "collapsed": true
   },
   "outputs": [],
   "source": [
    "from sklearn import ensemble\n",
    "gbm = ensemble.GradientBoostingRegressor(n_estimators = 400, max_depth = 5, min_samples_split = 2,\n",
    "          learning_rate = 0.1, loss = 'ls')"
   ]
  },
  {
   "cell_type": "code",
   "execution_count": 37,
   "metadata": {},
   "outputs": [
    {
     "data": {
      "text/plain": [
       "GradientBoostingRegressor(alpha=0.9, criterion='friedman_mse', init=None,\n",
       "             learning_rate=0.1, loss='ls', max_depth=5, max_features=None,\n",
       "             max_leaf_nodes=None, min_impurity_decrease=0.0,\n",
       "             min_impurity_split=None, min_samples_leaf=1,\n",
       "             min_samples_split=2, min_weight_fraction_leaf=0.0,\n",
       "             n_estimators=400, presort='auto', random_state=None,\n",
       "             subsample=1.0, verbose=0, warm_start=False)"
      ]
     },
     "execution_count": 37,
     "metadata": {},
     "output_type": "execute_result"
    }
   ],
   "source": [
    "gbm.fit(x_train, y_train)"
   ]
  },
  {
   "cell_type": "code",
   "execution_count": 38,
   "metadata": {},
   "outputs": [
    {
     "data": {
      "text/plain": [
       "0.3007339385967075"
      ]
     },
     "execution_count": 38,
     "metadata": {},
     "output_type": "execute_result"
    }
   ],
   "source": [
    "gbm.score(x_test,y_test)"
   ]
  },
  {
   "cell_type": "markdown",
   "metadata": {},
   "source": [
    "# Experiments\n",
    "An experiment is executing model for a given selection of features to predict a label.\n",
    "\n",
    "For each experiment we calculate a model score using a variety of models\n",
    "- Linear regression\n",
    "- Gradient Boosting\n",
    "\n",
    "We setup an array of experiments, and can iterate through each one."
   ]
  },
  {
   "cell_type": "code",
   "execution_count": 39,
   "metadata": {
    "collapsed": true
   },
   "outputs": [],
   "source": [
    "# Reset the results, subsequent calls to run experiment will append new results\n",
    "exp_results = []"
   ]
  },
  {
   "cell_type": "code",
   "execution_count": 40,
   "metadata": {
    "collapsed": true
   },
   "outputs": [],
   "source": [
    "# We setup a list of experiments, defining which features to include.\n",
    "experiments = [\n",
    "#0\n",
    "    {\n",
    "        \"description\" : '0 - fewest features, private, little utlility',\n",
    "        \"label\" : 'duration_days',\n",
    "        \"inputs\" : ['RACE', 'GENDER']\n",
    "    },\n",
    "\n",
    "#1\n",
    "    {\n",
    "        \"description\" : '1a - Inmate status adds value',\n",
    "        \"label\" : 'duration_days',\n",
    "        \"inputs\" : ['RACE', 'INMATE_STATUS_CODE']\n",
    "    },\n",
    "\n",
    "\n",
    "#2\n",
    "    {\n",
    "        \"description\" : '1b - Inmate status adds value',\n",
    "        \"label\" : 'duration_days',\n",
    "        \"inputs\" : ['GENDER', 'INMATE_STATUS_CODE']\n",
    "    },\n",
    "#3    \n",
    "    {\n",
    "        \"description\" : '3 - include 3 static features',\n",
    "        \"label\" : 'duration_days',\n",
    "        \"inputs\" : ['RACE', 'GENDER', 'INMATE_STATUS_CODE']\n",
    "    },\n",
    "\n",
    "#4\n",
    "    {\n",
    "        \"description\" : '4 - include derived feature',\n",
    "        \"label\" : 'duration_days',\n",
    "        \"inputs\" : ['RACE', 'GENDER', 'INMATE_STATUS_CODE','admission_hr']\n",
    "    },\n",
    "\n",
    "#5\n",
    "    {\n",
    "        \"description\" : '5 -include derived feature (3 + admission_dayofweek)',\n",
    "        \"label\" : 'duration_days',\n",
    "        \"inputs\" : ['RACE', 'GENDER', 'INMATE_STATUS_CODE','admission_dayofweek']\n",
    "    },\n",
    "    \n",
    "#6\n",
    "    {\n",
    "        \"description\" : '6 - include derived feature (4 + admission_dayofweek)',\n",
    "        \"label\" : 'duration_days',\n",
    "        \"inputs\" : ['RACE', 'GENDER', 'INMATE_STATUS_CODE','admission_hr','admission_dayofweek']\n",
    "    },\n",
    "    \n",
    "\n",
    "]\n"
   ]
  },
  {
   "cell_type": "code",
   "execution_count": 41,
   "metadata": {
    "collapsed": true
   },
   "outputs": [],
   "source": [
    "def run_experiment(experiment):\n",
    "    print('Experiment:',experiment['description'])\n",
    "    #print(df.columns)\n",
    "    input_cols = list(set(df.columns) - set(experiment['inputs']))\n",
    "    \n",
    "    # Setup data\n",
    "    labels = df['duration_days']\n",
    "    inputs = df.drop(input_cols,axis=1)\n",
    "    #print(inputs.head())\n",
    "\n",
    "    # Encode categoricals\n",
    "    le = LabelEncoder()\n",
    "    \n",
    "    if 'GENDER' in experiment['inputs']:\n",
    "        inputs['GENDER'] = inputs['GENDER'].fillna('NONE')\n",
    "    \n",
    "\n",
    "    categoricals = ['GENDER','RACE','INMATE_STATUS_CODE']\n",
    "    for col in categoricals:\n",
    "        if col in experiment['inputs']:\n",
    "            inputs[col] = le.fit_transform(inputs[col])\n",
    "    \n",
    "    #print(inputs.head())\n",
    "\n",
    "    # Split data\n",
    "    x_train , x_test , y_train , y_test = train_test_split(inputs , labels , test_size = 0.10,random_state =2)\n",
    "\n",
    "    # run linear regression\n",
    "    reg = LinearRegression()\n",
    "    reg.fit(x_train,y_train)\n",
    "    lr_score = reg.score(x_test,y_test)    \n",
    "    print(' lr_score=', lr_score)\n",
    "\n",
    "    \n",
    "    # run GBM\n",
    "    gbm = ensemble.GradientBoostingRegressor(n_estimators = 400, max_depth = 5, min_samples_split = 2,\n",
    "          learning_rate = 0.1, loss = 'ls')    \n",
    "    gbm.fit(x_train, y_train)  \n",
    "    gbm_score = gbm.score(x_test,y_test)\n",
    "    \n",
    "    print(' gbm_score=', gbm_score )\n",
    "    \n",
    "    # Summarise results\n",
    "    exp_results.append({\n",
    "        \"description\" : experiment['description'],\n",
    "        \"inputs\" : experiment['inputs'],\n",
    "        \"label\" : experiment['label'],\n",
    "        \"dropped\" : input_cols,\n",
    "        \"lr_score\" : lr_score,\n",
    "        \"gbm_score\" : gbm_score,\n",
    "        })\n",
    "\n"
   ]
  },
  {
   "cell_type": "code",
   "execution_count": 42,
   "metadata": {},
   "outputs": [
    {
     "data": {
      "text/plain": [
       "{'description': '6 - include derived feature (4 + admission_dayofweek)',\n",
       " 'inputs': ['RACE',\n",
       "  'GENDER',\n",
       "  'INMATE_STATUS_CODE',\n",
       "  'admission_hr',\n",
       "  'admission_dayofweek'],\n",
       " 'label': 'duration_days'}"
      ]
     },
     "execution_count": 42,
     "metadata": {},
     "output_type": "execute_result"
    }
   ],
   "source": [
    "experiments[6]"
   ]
  },
  {
   "cell_type": "code",
   "execution_count": 43,
   "metadata": {},
   "outputs": [
    {
     "name": "stdout",
     "output_type": "stream",
     "text": [
      "Experiment: 6 - include derived feature (4 + admission_dayofweek)\n",
      " lr_score= 0.092457104193\n",
      " gbm_score= 0.258304775693\n"
     ]
    }
   ],
   "source": [
    "run_experiment(experiments[6])"
   ]
  },
  {
   "cell_type": "markdown",
   "metadata": {},
   "source": [
    "## Review Experiment Results\n",
    "Tabularise the results in a dataframe"
   ]
  },
  {
   "cell_type": "code",
   "execution_count": 44,
   "metadata": {
    "collapsed": true
   },
   "outputs": [],
   "source": [
    "exp_results_df = pd.DataFrame(exp_results)"
   ]
  },
  {
   "cell_type": "code",
   "execution_count": 45,
   "metadata": {},
   "outputs": [
    {
     "data": {
      "text/html": [
       "<div>\n",
       "<style>\n",
       "    .dataframe thead tr:only-child th {\n",
       "        text-align: right;\n",
       "    }\n",
       "\n",
       "    .dataframe thead th {\n",
       "        text-align: left;\n",
       "    }\n",
       "\n",
       "    .dataframe tbody tr th {\n",
       "        vertical-align: top;\n",
       "    }\n",
       "</style>\n",
       "<table border=\"1\" class=\"dataframe\">\n",
       "  <thead>\n",
       "    <tr style=\"text-align: right;\">\n",
       "      <th></th>\n",
       "      <th>description</th>\n",
       "      <th>dropped</th>\n",
       "      <th>gbm_score</th>\n",
       "      <th>inputs</th>\n",
       "      <th>label</th>\n",
       "      <th>lr_score</th>\n",
       "    </tr>\n",
       "  </thead>\n",
       "  <tbody>\n",
       "    <tr>\n",
       "      <th>0</th>\n",
       "      <td>6 - include derived feature (4 + admission_day...</td>\n",
       "      <td>[admission_day, TOP_CHARGE, admission_month, a...</td>\n",
       "      <td>0.258305</td>\n",
       "      <td>[RACE, GENDER, INMATE_STATUS_CODE, admission_h...</td>\n",
       "      <td>duration_days</td>\n",
       "      <td>0.092457</td>\n",
       "    </tr>\n",
       "  </tbody>\n",
       "</table>\n",
       "</div>"
      ],
      "text/plain": [
       "                                         description  \\\n",
       "0  6 - include derived feature (4 + admission_day...   \n",
       "\n",
       "                                             dropped  gbm_score  \\\n",
       "0  [admission_day, TOP_CHARGE, admission_month, a...   0.258305   \n",
       "\n",
       "                                              inputs          label  lr_score  \n",
       "0  [RACE, GENDER, INMATE_STATUS_CODE, admission_h...  duration_days  0.092457  "
      ]
     },
     "execution_count": 45,
     "metadata": {},
     "output_type": "execute_result"
    }
   ],
   "source": [
    "exp_results_df"
   ]
  },
  {
   "cell_type": "markdown",
   "metadata": {},
   "source": [
    "## Rerun All Experiments\n",
    "Will iterate through all experiments, regenerating results from scratch.\n",
    "\n",
    "Could take a while to execute. 1-2 min per experiment."
   ]
  },
  {
   "cell_type": "code",
   "execution_count": 46,
   "metadata": {},
   "outputs": [
    {
     "name": "stdout",
     "output_type": "stream",
     "text": [
      "Experiment: 0 - fewest features, private, little utlility\n",
      " lr_score= 0.00206026922205\n",
      " gbm_score= 0.00331552832278\n",
      "Experiment: 1a - Inmate status adds value\n",
      " lr_score= 0.0913460881633\n",
      " gbm_score= 0.223743753532\n",
      "Experiment: 1b - Inmate status adds value\n",
      " lr_score= 0.0922310083555\n",
      " gbm_score= 0.223343394473\n",
      "Experiment: 3 - include 3 static features\n",
      " lr_score= 0.0923225418402\n",
      " gbm_score= 0.224959098662\n",
      "Experiment: 4 - include derived feature\n",
      " lr_score= 0.0923433524616\n",
      " gbm_score= 0.242241651007\n",
      "Experiment: 5 -include derived feature (3 + admission_dayofweek)\n",
      " lr_score= 0.0924437281744\n",
      " gbm_score= 0.242568845379\n",
      "Experiment: 6 - include derived feature (4 + admission_dayofweek)\n",
      " lr_score= 0.092457104193\n",
      " gbm_score= 0.258308560342\n"
     ]
    }
   ],
   "source": [
    "exp_results = []\n",
    "for experiment in experiments:\n",
    "    run_experiment(experiment)"
   ]
  }
 ],
 "metadata": {
  "kernelspec": {
   "display_name": "Python 3",
   "language": "python",
   "name": "python3"
  },
  "language_info": {
   "codemirror_mode": {
    "name": "ipython",
    "version": 3
   },
   "file_extension": ".py",
   "mimetype": "text/x-python",
   "name": "python",
   "nbconvert_exporter": "python",
   "pygments_lexer": "ipython3",
   "version": "3.5.1"
  }
 },
 "nbformat": 4,
 "nbformat_minor": 2
}
